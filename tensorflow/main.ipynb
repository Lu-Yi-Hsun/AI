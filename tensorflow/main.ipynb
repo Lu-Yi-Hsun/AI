{
 "cells": [
  {
   "cell_type": "markdown",
   "metadata": {},
   "source": [
    "# 目的 藉由tensorflow產生神經元 來學習y=ax+b 從 資料 推導出 a跟b的值"
   ]
  },
  {
   "cell_type": "markdown",
   "metadata": {},
   "source": [
    "匯入tensorlfow 跟numpy"
   ]
  },
  {
   "cell_type": "code",
   "execution_count": 2,
   "metadata": {},
   "outputs": [],
   "source": [
    "import  tensorflow as tf\n",
    "import numpy as np"
   ]
  },
  {
   "cell_type": "markdown",
   "metadata": {},
   "source": [
    "## 產生隨機資料 這裡答案是 a=0.1,b=0.3 一般正常運算 是不會知道答案 但因為我們要證明方法 能找到參數.\n",
    "## 這裡能填上你想要學習的資料"
   ]
  },
  {
   "cell_type": "code",
   "execution_count": 3,
   "metadata": {},
   "outputs": [],
   "source": [
    "x_data=np.random.rand(100).astype(np.float32)\n",
    "y_data=0.1*x_data+0.3"
   ]
  },
  {
   "cell_type": "markdown",
   "metadata": {},
   "source": [
    "Weights 宣告tf變數 設定初始值為,隨機變數一維度並且剛開始的值範圍-1.0～1.0 "
   ]
  },
  {
   "cell_type": "code",
   "execution_count": 4,
   "metadata": {},
   "outputs": [],
   "source": [
    "Weights=tf.Variable(tf.random_uniform([1],-1.0,1.0))"
   ]
  },
  {
   "cell_type": "markdown",
   "metadata": {},
   "source": [
    "biases 宣告tf變數 設定初始值為零"
   ]
  },
  {
   "cell_type": "code",
   "execution_count": 5,
   "metadata": {},
   "outputs": [],
   "source": [
    "biases=tf.Variable(tf.zeros([1]))"
   ]
  },
  {
   "cell_type": "markdown",
   "metadata": {},
   "source": [
    "預測的模型 猜 y跟x的關聯 是 ax+b "
   ]
  },
  {
   "cell_type": "code",
   "execution_count": 6,
   "metadata": {},
   "outputs": [],
   "source": [
    "y=Weights*x_data+biases"
   ]
  },
  {
   "cell_type": "markdown",
   "metadata": {},
   "source": [
    "計算 loss （代表\"預測值\"跟\"真實值\"的差別） 兩個相減完後再做平方"
   ]
  },
  {
   "cell_type": "code",
   "execution_count": 7,
   "metadata": {},
   "outputs": [],
   "source": [
    "loss = tf.reduce_mean(tf.square(y-y_data))\n"
   ]
  },
  {
   "cell_type": "markdown",
   "metadata": {},
   "source": [
    "優化器來減少誤差 讓下一次 誤差更小"
   ]
  },
  {
   "cell_type": "code",
   "execution_count": 8,
   "metadata": {},
   "outputs": [],
   "source": [
    "optimizer=tf.train.GradientDescentOptimizer(0.5)"
   ]
  },
  {
   "cell_type": "markdown",
   "metadata": {},
   "source": [
    "把目前誤差放入優化器 讓tensorflow 把誤差縮小"
   ]
  },
  {
   "cell_type": "code",
   "execution_count": 9,
   "metadata": {},
   "outputs": [],
   "source": [
    "train =optimizer.minimize(loss)"
   ]
  },
  {
   "cell_type": "markdown",
   "metadata": {},
   "source": [
    "初始化tensorflow "
   ]
  },
  {
   "cell_type": "code",
   "execution_count": 13,
   "metadata": {},
   "outputs": [],
   "source": [
    "init=tf.global_variables_initializer()"
   ]
  },
  {
   "cell_type": "markdown",
   "metadata": {},
   "source": [
    "執行剛剛宣告的init才算激活"
   ]
  },
  {
   "cell_type": "code",
   "execution_count": 14,
   "metadata": {},
   "outputs": [],
   "source": [
    "sess=tf.Session()\n",
    "sess.run(init)"
   ]
  },
  {
   "cell_type": "markdown",
   "metadata": {},
   "source": [
    "開始訓練"
   ]
  },
  {
   "cell_type": "code",
   "execution_count": 20,
   "metadata": {},
   "outputs": [
    {
     "name": "stdout",
     "output_type": "stream",
     "text": [
      "0 [ 0.09999991] [ 0.30000007] 8.79297e-16\n20 [ 0.09999991] [ 0.30000007] 8.79297e-16\n40 [ 0.09999991] [ 0.30000007] 8.79297e-16\n60 [ 0.09999991] [ 0.30000007] 8.79297e-16\n80 [ 0.09999991] [ 0.30000007] 8.79297e-16\n100 [ 0.09999991] [ 0.30000007] 8.79297e-16\n120 [ 0.09999991] [ 0.30000007] 8.79297e-16\n140 [ 0.09999991] [ 0.30000007] 8.79297e-16\n"
     ]
    },
    {
     "name": "stdout",
     "output_type": "stream",
     "text": [
      "160 [ 0.09999991] [ 0.30000007] 8.79297e-16\n180 [ 0.09999991] [ 0.30000007] 8.79297e-16\n200 [ 0.09999991] [ 0.30000007] 8.79297e-16\n"
     ]
    }
   ],
   "source": [
    "for step in range(210):\n",
    "    sess.run(train)#真正訓練\n",
    "    if step%20 ==0:\n",
    "        #只是顯示參數\n",
    "        print(step,sess.run(Weights),sess.run(biases),sess.run(loss))\n",
    "    \n"
   ]
  },
  {
   "cell_type": "code",
   "execution_count": null,
   "metadata": {},
   "outputs": [],
   "source": []
  }
 ],
 "metadata": {},
 "nbformat": 4,
 "nbformat_minor": 0
}
